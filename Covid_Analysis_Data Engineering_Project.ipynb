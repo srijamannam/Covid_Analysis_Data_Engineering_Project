{
 "cells": [
  {
   "cell_type": "code",
   "execution_count": 1,
   "id": "bb9aafac",
   "metadata": {},
   "outputs": [],
   "source": [
    "import boto3\n",
    "import pandas as pd\n",
    "from io import StringIO"
   ]
  },
  {
   "cell_type": "code",
   "execution_count": null,
   "id": "836a5cea",
   "metadata": {},
   "outputs": [],
   "source": [
    "AWS_ACCESS_KEY= \" \"\n",
    "AWS_SECRET_KEY = \" \"\n",
    "AWS_REGION = \" \"\n",
    "SCHEMA_NAME = \" \"\n",
    "S3_STAGING_DIR = \" \" #OUTPUT FOLDER\n",
    "S3_BUCKET_AME = \" \"\n",
    "S3_OUTPUT_DIRECTORY = \" \""
   ]
  },
  {
   "cell_type": "code",
   "execution_count": null,
   "id": "bdbc9741",
   "metadata": {},
   "outputs": [],
   "source": [
    "athena_client = boto3.client(\n",
    "    \"athena\",\n",
    "    aws_access_key_id = AWS_ACCESS_KEY,\n",
    "    aws_secret_access_key = AWS_SECRET_KEY,\n",
    "    region_name = AWS_REGION, \n",
    ")"
   ]
  },
  {
   "cell_type": "code",
   "execution_count": null,
   "id": "55253884",
   "metadata": {},
   "outputs": [],
   "source": [
    "Dict = {}\n",
    "def download_and_load_query_results(client: boto3.client, query_response:Dict)->pd.DataFrame:\n",
    "    while True:\n",
    "        try:\n",
    "            #only loads first 1000 rows\n",
    "            client.get_query_results(\n",
    "            QueryExecutionId = query_response[\"QueryExcutionId\"]\n",
    "            )\n",
    "            break\n",
    "        except Exception as err:\n",
    "            if \"not yet finished\" in str(err):\n",
    "                time.sleep(0.001)\n",
    "            else:\n",
    "                raise err\n",
    "    temp_file_location: str =\"athena_query_results.csv\"\n",
    "    s3_client = boto3.client(\n",
    "        \"s3\",\n",
    "        aws_access_key_id = AWS_ACCESS_KEY,\n",
    "        aws_secret_access_key = AWS_SECRET_KEY,\n",
    "        region_name = AWS_REGION, \n",
    "    )\n",
    "    s3_client.download_file(\n",
    "        S3_BUCKET_NAME, \n",
    "        f\"{S3_OUTPUT_DIRECTORY}/{query_response['QueryExecutionId']}.csv\",\n",
    "        temp_file_location,\n",
    "    )\n",
    "    return pd.read_csv(temp_file_location)"
   ]
  },
  {
   "cell_type": "code",
   "execution_count": null,
   "id": "6c066577",
   "metadata": {},
   "outputs": [],
   "source": [
    "response = athena_client.start_query_execution(\n",
    "    QueryString = \"SELECT * FROM enigma_jhud\",\n",
    "    QueryExecutionContext = {\"Database\": SCHEMA_NAME},\n",
    "    ResultConfiguration = {\n",
    "        \"OutputLocation\" : S3_STAGING_DIR,\n",
    "        \"EncryptionConfiguration\" :{\"EncryptionOption\": \"SSE_S3\"},\n",
    "    },\n",
    "\n",
    ")"
   ]
  },
  {
   "cell_type": "code",
   "execution_count": null,
   "id": "1bafda66",
   "metadata": {},
   "outputs": [],
   "source": [
    "enigma_jhud = download_and_load_query_results(athena_client, response )"
   ]
  },
  {
   "cell_type": "code",
   "execution_count": null,
   "id": "08003ccc",
   "metadata": {},
   "outputs": [],
   "source": [
    "enigma_jhud.head()"
   ]
  },
  {
   "cell_type": "code",
   "execution_count": null,
   "id": "b308ce5e",
   "metadata": {},
   "outputs": [],
   "source": [
    "response = athena_client.start_query_execution(\n",
    "    QueryString = \"SELECT * FROM nytimes_data_in_usa_us_states\",\n",
    "    QueryExecutionContext = {\"Database\": SCHEMA_NAME},\n",
    "    ResultConfiguration = {\n",
    "        \"OutputLocation\" : S3_STAGING_DIR,\n",
    "        \"EncryptionConfiguration\" :{\"EncryptionOption\": \"SSE_S3\"},\n",
    "    },\n",
    "\n",
    ")\n",
    "nytimes_data_in_usa_us_states = download_and_load_query_results(athena_client, response)\n"
   ]
  },
  {
   "cell_type": "code",
   "execution_count": null,
   "id": "216c182e",
   "metadata": {},
   "outputs": [],
   "source": [
    "response = athena_client.start_query_execution(\n",
    "    QueryString = \"SELECT * FROM static_datacountrycode\",\n",
    "    QueryExecutionContext = {\"Database\": SCHEMA_NAME},\n",
    "    ResultConfiguration = {\n",
    "        \"OutputLocation\" : S3_STAGING_DIR,\n",
    "        \"EncryptionConfiguration\" :{\"EncryptionOption\": \"SSE_S3\"},\n",
    "    },\n",
    "\n",
    ")\n",
    "static_datacountrycode = download_and_load_query_results(athena_client, response)\n"
   ]
  },
  {
   "cell_type": "code",
   "execution_count": null,
   "id": "b8b596cc",
   "metadata": {},
   "outputs": [],
   "source": [
    "response = athena_client.start_query_execution(\n",
    "    QueryString = \"SELECT * FROM static_datacountypopulation\",\n",
    "    QueryExecutionContext = {\"Database\": SCHEMA_NAME},\n",
    "    ResultConfiguration = {\n",
    "        \"OutputLocation\" : S3_STAGING_DIR,\n",
    "        \"EncryptionConfiguration\" :{\"EncryptionOption\": \"SSE_S3\"},\n",
    "    },\n",
    "\n",
    ")\n",
    "static_datacountypopulation = download_and_load_query_results(athena_client, response)\n"
   ]
  },
  {
   "cell_type": "code",
   "execution_count": null,
   "id": "245354fe",
   "metadata": {},
   "outputs": [],
   "source": [
    "response = athena_client.start_query_execution(\n",
    "    QueryString = \"SELECT * FROM rearc_usa_hospital_beds\",\n",
    "    QueryExecutionContext = {\"Database\": SCHEMA_NAME},\n",
    "    ResultConfiguration = {\n",
    "        \"OutputLocation\" : S3_STAGING_DIR,\n",
    "        \"EncryptionConfiguration\" :{\"EncryptionOption\": \"SSE_S3\"},\n",
    "    },\n",
    "\n",
    ")\n",
    "rearc_usa_hospital_beds = download_and_load_query_results(athena_client, response)\n"
   ]
  },
  {
   "cell_type": "code",
   "execution_count": null,
   "id": "016d74dc",
   "metadata": {},
   "outputs": [],
   "source": [
    "response = athena_client.start_query_execution(\n",
    "    QueryString = \"SELECT * FROM rearc_covid_19_testing_dataus_total_test \",\n",
    "    QueryExecutionContext = {\"Database\": SCHEMA_NAME},\n",
    "    ResultConfiguration = {\n",
    "        \"OutputLocation\" : S3_STAGING_DIR,\n",
    "        \"EncryptionConfiguration\" :{\"EncryptionOption\": \"SSE_S3\"},\n",
    "    },\n",
    "\n",
    ")\n",
    "rearc_covid_19_testing_dataus_total_test = download_and_load_query_results(athena_client, response)\n"
   ]
  },
  {
   "cell_type": "code",
   "execution_count": null,
   "id": "3629fb99",
   "metadata": {},
   "outputs": [],
   "source": [
    "response = athena_client.start_query_execution(\n",
    "    QueryString = \"SELECT * FROM rearc_covid_19_testing_data_states_dailystates_daily \",\n",
    "    QueryExecutionContext = {\"Database\": SCHEMA_NAME},\n",
    "    ResultConfiguration = {\n",
    "        \"OutputLocation\" : S3_STAGING_DIR,\n",
    "        \"EncryptionConfiguration\" :{\"EncryptionOption\": \"SSE_S3\"},\n",
    "    },\n",
    "\n",
    ")\n",
    "rearc_covid_19_testing_data_states_dailystates_daily = download_and_load_query_results(athena_client, response)\n"
   ]
  },
  {
   "cell_type": "code",
   "execution_count": null,
   "id": "c30d908d",
   "metadata": {},
   "outputs": [],
   "source": []
  },
  {
   "cell_type": "code",
   "execution_count": null,
   "id": "8b23a4d8",
   "metadata": {},
   "outputs": [],
   "source": [
    "static_datastate_abv.head()"
   ]
  },
  {
   "cell_type": "code",
   "execution_count": null,
   "id": "4f1ac049",
   "metadata": {},
   "outputs": [],
   "source": [
    "#Changing the headers\n",
    "new_header = static_datastate_abv.iloc[0]"
   ]
  },
  {
   "cell_type": "code",
   "execution_count": null,
   "id": "9abe8ab3",
   "metadata": {},
   "outputs": [],
   "source": [
    "static_datastate_abv = static_datastate_abv[1:]"
   ]
  },
  {
   "cell_type": "code",
   "execution_count": null,
   "id": "22b59152",
   "metadata": {},
   "outputs": [],
   "source": [
    "static_datastate_abv.columns = new_header"
   ]
  },
  {
   "cell_type": "code",
   "execution_count": null,
   "id": "d1fee0ee",
   "metadata": {},
   "outputs": [],
   "source": [
    "static_datastate_abv.head()"
   ]
  },
  {
   "cell_type": "code",
   "execution_count": null,
   "id": "1d62bd35",
   "metadata": {},
   "outputs": [],
   "source": [
    "#Star schema , creating fact table and dimension tables\n",
    "\n",
    "factcovid1 = enigma_jhud[[\"fips\",\"province_state\",\"country_region\",\"confirmed\",\"deaths\",\"recovered\",\"active\"]]\n",
    "factcovid2 = rearc_covid_19_testing_data_states_dailystates_daily[[\"fips\",\"date\",\"positive\",\"negative\",\"hospitalizedcurrently\",\"hospitalized\",\"hospitalizedischarged\"]]\n",
    "\n",
    "factcovid = pd.merge(factcovid1, factcovid2, on= 'fips',how=\"inner\")"
   ]
  },
  {
   "cell_type": "code",
   "execution_count": null,
   "id": "5dceb8d3",
   "metadata": {},
   "outputs": [],
   "source": [
    "factcovid.head()"
   ]
  },
  {
   "cell_type": "code",
   "execution_count": null,
   "id": "cde78440",
   "metadata": {},
   "outputs": [],
   "source": [
    "dimregion1 = enigma_jhud[[\"fips\",\"province_state\",\"country_region\",\"confirmed\",\"deaths\",\"recovered\",\"active\"]]\n",
    "dimregion2 = nytimes_data_in_usa_us_country[[\"fips\",\"country\",\"state\"]]\n",
    "\n",
    "dimregion = pd.merge(dimregion1,dimregion2,on='fips',how='inner')"
   ]
  },
  {
   "cell_type": "code",
   "execution_count": null,
   "id": "98492ae3",
   "metadata": {},
   "outputs": [],
   "source": [
    "dimregion.head()"
   ]
  },
  {
   "cell_type": "code",
   "execution_count": null,
   "id": "d7601d1e",
   "metadata": {},
   "outputs": [],
   "source": [
    "dimdate = rearc_covid_19_testing_data_states_dailystates_daily[[\"fips\",\"date\"]]\n",
    "dimdate.head()"
   ]
  },
  {
   "cell_type": "code",
   "execution_count": null,
   "id": "177a039d",
   "metadata": {},
   "outputs": [],
   "source": [
    "dimdate['date'] = pd.to_datetime(dimDate['date'],format =\"&Y%m%d\")\n"
   ]
  },
  {
   "cell_type": "code",
   "execution_count": null,
   "id": "82b3f43d",
   "metadata": {},
   "outputs": [],
   "source": [
    "dimdate['year'] =dimdate['date'].dt.year\n",
    "\n",
    "dimdate['month']  = dimdate['date'].dt.month\n",
    "\n",
    "dimdate['day_of_week'] = dimdate['date'].dt.dayofweek "
   ]
  },
  {
   "cell_type": "code",
   "execution_count": null,
   "id": "69864d6b",
   "metadata": {},
   "outputs": [],
   "source": [
    "dimdate.head()"
   ]
  },
  {
   "cell_type": "code",
   "execution_count": null,
   "id": "b5c07cc5",
   "metadata": {},
   "outputs": [],
   "source": [
    "#storing results in s3\n",
    "\n",
    "bucket = \"covid-project-23\" #already created in s3\n"
   ]
  },
  {
   "cell_type": "code",
   "execution_count": null,
   "id": "d14f84de",
   "metadata": {},
   "outputs": [],
   "source": [
    "csv_buffer = StringIO()\n",
    "factcovid.to_csv(csv_buffer)\n",
    "s3_resource = boto3.resource('s3')\n",
    "\n",
    "s3_resource.object(bucket,\"output/factcovid.csv\").put(Body =csv_buffer.getvalue())"
   ]
  },
  {
   "cell_type": "code",
   "execution_count": null,
   "id": "92f4b6ae",
   "metadata": {},
   "outputs": [],
   "source": [
    "dimdatesql = pd.io.sql.get_schema(dimdate.reset_index(),'dimDate')\n",
    "print(''.join(dimdatesql))"
   ]
  },
  {
   "cell_type": "code",
   "execution_count": null,
   "id": "fcce5aac",
   "metadata": {},
   "outputs": [],
   "source": [
    "factcovidsql = pd.io.sql.get_schema(factcovid.reset_index(),'factcovid')\n",
    "print(''.join(factcovidsql))"
   ]
  },
  {
   "cell_type": "code",
   "execution_count": null,
   "id": "eb8bbdf0",
   "metadata": {},
   "outputs": [],
   "source": [
    "dimregionsql = pd.io.sql.get_schema(dimregion.reset_index(),'dimregion')\n",
    "print(''.join(dimregionsql))"
   ]
  },
  {
   "cell_type": "code",
   "execution_count": null,
   "id": "43714cb7",
   "metadata": {},
   "outputs": [],
   "source": [
    "import redshift_connector"
   ]
  },
  {
   "cell_type": "code",
   "execution_count": null,
   "id": "d42a5a0a",
   "metadata": {},
   "outputs": [],
   "source": [
    "conn = redshift_connector.connect(\n",
    "    host = 'redshift-cluster-2.ctlwvzbuur6m.ap-south-1.redshift.amazonaws.com',\n",
    "    database = 'dev',\n",
    "    user = 'awsuser',\n",
    "    password = 'Passw0rd123'\n",
    ")"
   ]
  },
  {
   "cell_type": "code",
   "execution_count": null,
   "id": "ad223038",
   "metadata": {},
   "outputs": [],
   "source": [
    "conn.autocommit = True"
   ]
  },
  {
   "cell_type": "code",
   "execution_count": null,
   "id": "973794c2",
   "metadata": {},
   "outputs": [],
   "source": [
    "cursor = redshift_connector.cursor = conn.cursor()"
   ]
  },
  {
   "cell_type": "code",
   "execution_count": null,
   "id": "9dbb15bb",
   "metadata": {},
   "outputs": [],
   "source": [
    "cursor.execute(\"\"\"CREATE TABLE dimdate(\n",
    "    \"index\" INTEGER,\n",
    "    \"fips\" INTEGER,\n",
    "    \"date\" TIMESTAMP,\n",
    "    \"year\" INTEGER,\n",
    "    \"month\" INTEGER,\n",
    "    \"day_of_week\" INTEGER\n",
    ")\"\"\")\n",
    "\n",
    "\n",
    "cursor.execute(\"\"\"\n",
    "    CREATE TABLE \"dimhospital\"(\n",
    "    \"index\" INTEGER,\n",
    "    \"fips\" REAL,\n",
    "    \"state_name\" TEXT,\n",
    "    \"latitude\" REAL,\n",
    "    \"longitude\" TEXT,\n",
    "    \"hq_address\" TEXT,\n",
    "    \"hospital_name\" TEXT,\n",
    "    \"hospital_type\" TEXT,\n",
    "    \"hq_city\" TEXT,\n",
    "    \"hq_state\" TEXT\n",
    "    )\n",
    "\n",
    "\"\"\")\n",
    "\n",
    "\n",
    "cursor.execute(\"\"\"\n",
    "    CREATE TABLE \"factcovid\"(\n",
    "    \"index\" INTEGER,\n",
    "    \"fips\" REAL,\n",
    "    \"province_state\" TEXT,\n",
    "    \"country_region\" TEXT,\n",
    "    \"confirmed\" REAL,\n",
    "    \"deaths\" REAL,\n",
    "    \"recovered\" REAL,\n",
    "    \"active\" REAL, \n",
    "    \"date\" INTEGER,\n",
    "    \"positive\" REAL,\n",
    "    \"negative\"REAL ,\n",
    "    \"hospitalizedcurrently\" REAL,\n",
    "    \"hospitalized\" REAL,\n",
    "    \"hospitalizeddischarged\" REAL\n",
    "    )\n",
    "\n",
    "\"\"\")\n"
   ]
  },
  {
   "cell_type": "code",
   "execution_count": null,
   "id": "d15e83a3",
   "metadata": {},
   "outputs": [],
   "source": []
  }
 ],
 "metadata": {
  "kernelspec": {
   "display_name": "Python 3 (ipykernel)",
   "language": "python",
   "name": "python3"
  },
  "language_info": {
   "codemirror_mode": {
    "name": "ipython",
    "version": 3
   },
   "file_extension": ".py",
   "mimetype": "text/x-python",
   "name": "python",
   "nbconvert_exporter": "python",
   "pygments_lexer": "ipython3",
   "version": "3.9.13"
  }
 },
 "nbformat": 4,
 "nbformat_minor": 5
}
